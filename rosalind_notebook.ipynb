{
 "cells": [
  {
   "cell_type": "markdown",
   "metadata": {},
   "source": [
    "# ROSALIND Bio Informatics Stronghold problems (http://rosalind.info/problems/)\n",
    "Practicing my bio informatics skills as well as learning some basic biology. "
   ]
  },
  {
   "cell_type": "markdown",
   "metadata": {},
   "source": [
    "## 1. Counting DNA Nucleotides\n",
    "**Problem**\n",
    "\n",
    "A string is simply an ordered collection of symbols selected from some alphabet and formed into a word; the length of a string is the number of symbols that it contains.\n",
    "\n",
    "An example of a length 21 DNA string (whose alphabet contains the symbols 'A', 'C', 'G', and 'T') is \"ATGCTTCAGAAAGGTCTTACG.\"\n",
    "\n",
    "**Given:** A DNA string s of length at most 1000 nt.\n",
    "\n",
    "**Return:** Four integers (separated by spaces) counting the respective number of times that the symbols 'A', 'C', 'G', and 'T' occur in s.\n",
    "    \n",
    "**Sample Dataset:**\n",
    "AGCTTTTCATTCTGACTGCAACGGGCAATATGTCTCTGTGTGGATTAAAAAAAGAGTGTCTGATAGCAGC\n",
    "\n",
    "**Sample Output:**\n",
    "\n",
    "20 12 17 21"
   ]
  },
  {
   "cell_type": "code",
   "execution_count": 23,
   "metadata": {},
   "outputs": [
    {
     "name": "stdout",
     "output_type": "stream",
     "text": [
      "20 12 17 21\n"
     ]
    }
   ],
   "source": [
    "def count_nucleotides(s):\n",
    "    nucl_dict = {'A' : 0, 'C': 0, 'G': 0, 'T': 0}\n",
    "    for symbol in s:\n",
    "        nucl_dict[symbol] += 1\n",
    "    print(str(nucl_dict['A']) + \" \" + str(nucl_dict['C'])\n",
    "          + \" \" + str(nucl_dict['G']) + \" \" + str(nucl_dict['T']))\n",
    "count_nucleotides(\"AGCTTTTCATTCTGACTGCAACGGGCAATATGTCTCTGTGTGGATTAAAAAAAGAGTGTCTGATAGCAGC\")"
   ]
  },
  {
   "cell_type": "code",
   "execution_count": 31,
   "metadata": {},
   "outputs": [
    {
     "name": "stdout",
     "output_type": "stream",
     "text": [
      "208 213 228 198\n"
     ]
    }
   ],
   "source": [
    "import re\n",
    "with open(\"rosalind_dna.txt\", \"r\") as f:\n",
    "    s = f.read()\n",
    "    s = re.sub('[^ACGT]+', '', s) # remove '\\n' and other special chars if there are any\n",
    "    count_nucleotides(s)"
   ]
  },
  {
   "cell_type": "markdown",
   "metadata": {},
   "source": [
    "## 2. The Second Nucleic Acid\n",
    "**Problem**\n",
    "\n",
    "An RNA string is a string formed from the alphabet containing 'A', 'C', 'G', and 'U'.\n",
    "\n",
    "Given a DNA string t\n",
    "corresponding to a coding strand, its transcribed RNA string u is formed by replacing all occurrences of 'T' in t with 'U' in u.\n",
    "\n",
    "**Given:** A DNA string t having length at most 1000 nt.\n",
    "\n",
    "**Return:** The transcribed RNA string of t.\n",
    "\n",
    "Sample Dataset:\n",
    "\n",
    "GATGGAACTTGACTACGTAAATT\n",
    "\n",
    "Sample Output:\n",
    "    \n",
    "GAUGGAACUUGACUACGUAAAUU"
   ]
  },
  {
   "cell_type": "code",
   "execution_count": 37,
   "metadata": {},
   "outputs": [
    {
     "name": "stdout",
     "output_type": "stream",
     "text": [
      "GAUGGAACUUGACUACGUAAAUU\n"
     ]
    }
   ],
   "source": [
    "def transcribe(s):\n",
    "    trans_s = s.translate(str.maketrans(\"T\", \"U\"))\n",
    "    print(trans_s)\n",
    "\n",
    "transcribe(\"GATGGAACTTGACTACGTAAATT\")"
   ]
  },
  {
   "cell_type": "code",
   "execution_count": 44,
   "metadata": {},
   "outputs": [
    {
     "name": "stdout",
     "output_type": "stream",
     "text": [
      "UGAGCGUAUACCCAAGUCCUUGAUUGGCAGAGAACUAGGCACAGAGUUCUUCGGCAACCAUGAGCCGCAUGGCCAAUCUUUUAGUGGCGGUAUGUACCCGCGUAGGAACAGAAAAAGUCCUUCUUGUCGCCCGGUGGCCGUAGUGCCAAUGCCGUAUAGCACGGAAGUGAGUUCCUCGUAUGACUCACGACGACCGUUUAGUAUGGUCAUCUGGGAGUCGUUGGUACCUGGGGCUUCCGGCUAUUUCGCAACGUAGUCAUGUUCCUCUGCAGUAGCAUAAUCUCGCUCGCGACUAACAUGGAGCUCCGCAAUUAGCCUAGCUAAGAGUCCUAGACGAGAGGUACGACCUUCCUUAAGCGGUCCGCGCUGAGGUCACAAACCGUAGGACCCGGAAUCAGUCUGUGAGCUUGGUUAUCGCUGGAUAAAAUAAGCCCCAGGACGAACCAAAGAUGGUUACGAUCUACAGCCAGGACUACCGUACUGGUAGCCAAAUCAGGGGUGUAAGGGGCAUUACUUUGGUCGAUCAUCAGUGAUAAGGUAGAGUACGGUCAACCGCGCUUUCCCUUCUCUGAUUAAUUCGAUAUAUUGAUGGCCAGUUCCUCAUUUUCAAGAAGGCGUGUCGAUCCACUGCGAGCUUUUAUCCGGGACCGGGGCGGGCUUAGCGUCGUUGAAUUCCCUUGUACGUGCCGUGGGCAGUUGAAUCGCCGUAGGAAUCCGACCGAUGCUCCGCACACCCAAUCUUACCAGCCCUCGAAGCAUAUUCCUGCGACACUGAGUGCACAAAGGUUCGCUUAAAUCUGUGUGGGCGGUUUGCCAGCCGACCAUGCCACCCAGGGUUCUGUUGCGUGUUGGUCGUUCGGAUAUCGGACAGACCAAGGUGACCGUGGUGUCCUAGGGCAGGAAGAUUUACACCCGCGU\n"
     ]
    }
   ],
   "source": [
    "fname = \"rosalind_rna.txt\"\n",
    "with open (fname, \"r\") as f:\n",
    "    s = f.read()\n",
    "    s = re.sub('[^ACGT]+', '', s)\n",
    "    transcribe(s)"
   ]
  },
  {
   "cell_type": "code",
   "execution_count": 45,
   "metadata": {},
   "outputs": [
    {
     "name": "stdout",
     "output_type": "stream",
     "text": [
      "ACCGGGTTTT\n"
     ]
    }
   ],
   "source": [
    "def complement(s):\n",
    "    rev_s = s[::-1]\n",
    "    comp_s = rev_s.translate(str.maketrans(\"ACGT\", \"TGCA\")) \n",
    "    print(comp_s)\n",
    "complement(\"AAAACCCGGT\")"
   ]
  },
  {
   "cell_type": "code",
   "execution_count": 46,
   "metadata": {},
   "outputs": [
    {
     "name": "stdout",
     "output_type": "stream",
     "text": [
      "ACGTTCATTAATTACATCCCAACTTAGCTAAGCTAAGCAAACTTGATCACTCGGAATGCATGACAGGATGCACTGATATAAATTGGAAGCTCTGCACAAACTGTTCGGCGGCCTATCCCTGCCGTAAGACACGTTAGCCGCGTATGAAGCAGACCGGCAATTGCGGCGAGGTCCAGTTGCCATGGAATTTAGTAAGTAACCTAAGTACAGAAGCACCACGAGAACGTATGTTTTTCGTTCTGAGCTTGGCACTGCTTGACTAGTGTCCTCGCTGAACCGCATTCAGTCGGAAGCATCTTACTACTAAGATGCCCATGGCGACGGAGTTGCATCAGAGAGGATATATATTCAGAAACTTTACGCCGATCCTACCGCCTTGCCTAGAGAGTACAGGGGAGTTGACGCCCCCGATCGTATATGGTCAACCAACAGTAACATTGCGCGCCCGCCACCACACATGGATACTTTGGGTCTTATGGACTCCCTAACAAACATCCAAGGGACGACCAATCTTTGGCGAGTACTCTGATAGTCCACACTCTTGGTCACGGGAAAGTTAAGACTCAATGATGCATGACATGGACACCACCATCAAGTAGTACGAAGGACCCTGTTACCGCGACCTTAAACATCGTAGTATCCCCAACTTGGACGTACCACGTGTTGTAGCGTAGTTCGGTCCATGAGTCAAACCTTCTGTTGCACTCAACTGGGGGATCCTGGCTGCTTTCTCTACCTGCACATTGATTGAGACTGCGAGTGAAGTGTTCAGAAGGCCGAGTGCAGTTATGTACGAGGGATGGGAGTCTCTCCGCCTATGCTACCCTGAGTTCATTCACCGTACTGCCTAGACAGGGTTTCGACCGCCGTGTCCGGTTCCATTTTGGAAACCTGCAGGGCTC\n",
      "\n"
     ]
    }
   ],
   "source": [
    "fname = 'rosalind_revc.txt'\n",
    "with open(fname, \"r\") as f:\n",
    "    s = f.read()\n",
    "    rev_s = s[::-1]\n",
    "    complement(rev_s)"
   ]
  },
  {
   "cell_type": "markdown",
   "metadata": {},
   "source": [
    "## 3. Rabbits and Recurrence Relations \n",
    "**Problem**\n",
    "\n",
    "A sequence is an ordered collection of objects (usually numbers), which are allowed to repeat. Sequences can be finite or infinite. Two examples are the finite sequence $(\\pi,−\\sqrt{2},0,\\pi)$\n",
    "and the infinite sequence of odd numbers $(1,3,5,7,9,…)$. We use the notation $a_n$ to represent the $n$-th term of a sequence.\n",
    "\n",
    "A recurrence relation is a way of defining the terms of a sequence with respect to the values of previous terms. In the case of Fibonacci's rabbits from the introduction, any given month will contain the rabbits that were alive the previous month, plus any new offspring. A key observation is that the number of offspring in any month is equal to the number of rabbits that were alive two months prior. As a result, if $F_n$\n",
    "represents the number of rabbit pairs alive after the $n$-th month, then we obtain the Fibonacci sequence having terms $F_n$ that are defined by the recurrence relation $F_n=F_{n−1}+F_{n−2}$ (with $F_1=F_2=1$ to initiate the sequence). Although the sequence bears Fibonacci's name, it was known to Indian mathematicians over two millennia ago.\n",
    "\n",
    "When finding the $n$-th term of a sequence defined by a recurrence relation, we can simply use the recurrence relation to generate terms for progressively larger values of $n$. This problem introduces us to the computational technique of dynamic programming, which successively builds up solutions by using the answers to smaller cases.\n",
    "\n",
    "**Given:** Positive integers $n\\leq40$ and $k\\leq5$.\n",
    "\n",
    "**Return:** The total number of rabbit pairs that will be present after $n$ months, if we begin with $1$ pair and in each generation, every pair of reproduction-age rabbits produces a litter of $k$ rabbit pairs (instead of only $1$ pair).\n",
    "    \n",
    "**Sample Dataset:**\n",
    "    \n",
    "5 3\n",
    "\n",
    "**Sample Output:**\n",
    "\n",
    "19"
   ]
  },
  {
   "cell_type": "code",
   "execution_count": 54,
   "metadata": {},
   "outputs": [],
   "source": [
    "def rabbit_pairs(months, k):\n",
    "    if (months == 1 or months == 2):\n",
    "        return 1\n",
    "    else:\n",
    "        return rabbit_pairs(months-1, k) + k * rabbit_pairs(months-2, k)\n",
    "        "
   ]
  },
  {
   "cell_type": "code",
   "execution_count": 57,
   "metadata": {},
   "outputs": [
    {
     "data": {
      "text/plain": [
       "19"
      ]
     },
     "execution_count": 57,
     "metadata": {},
     "output_type": "execute_result"
    }
   ],
   "source": [
    "rabbit_pairs(5, 3)"
   ]
  },
  {
   "cell_type": "code",
   "execution_count": 58,
   "metadata": {},
   "outputs": [
    {
     "data": {
      "text/plain": [
       "436390025825"
      ]
     },
     "execution_count": 58,
     "metadata": {},
     "output_type": "execute_result"
    }
   ],
   "source": [
    "rabbit_pairs(30,4)"
   ]
  },
  {
   "cell_type": "code",
   "execution_count": null,
   "metadata": {},
   "outputs": [],
   "source": []
  }
 ],
 "metadata": {
  "kernelspec": {
   "display_name": "Python 3",
   "language": "python",
   "name": "python3"
  },
  "language_info": {
   "codemirror_mode": {
    "name": "ipython",
    "version": 3
   },
   "file_extension": ".py",
   "mimetype": "text/x-python",
   "name": "python",
   "nbconvert_exporter": "python",
   "pygments_lexer": "ipython3",
   "version": "3.7.0"
  }
 },
 "nbformat": 4,
 "nbformat_minor": 2
}
