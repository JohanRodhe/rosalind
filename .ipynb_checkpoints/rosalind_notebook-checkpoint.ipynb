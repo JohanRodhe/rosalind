{
 "cells": [
  {
   "cell_type": "markdown",
   "metadata": {},
   "source": [
    "# ROSALIND Bio Informatics Stronghold problems (http://rosalind.info/problems/)\n",
    "Practicing my bio informatics skills as well as learning some basic biology. "
   ]
  },
  {
   "cell_type": "markdown",
   "metadata": {},
   "source": [
    "## 1. Counting DNA Nucleotides\n",
    "**Problem**\n",
    "\n",
    "A string is simply an ordered collection of symbols selected from some alphabet and formed into a word; the length of a string is the number of symbols that it contains.\n",
    "\n",
    "An example of a length 21 DNA string (whose alphabet contains the symbols 'A', 'C', 'G', and 'T') is \"ATGCTTCAGAAAGGTCTTACG.\"\n",
    "\n",
    "**Given:** A DNA string s of length at most 1000 nt.\n",
    "\n",
    "**Return:** Four integers (separated by spaces) counting the respective number of times that the symbols 'A', 'C', 'G', and 'T' occur in s.\n",
    "    \n",
    "**Sample Dataset:**\n",
    "AGCTTTTCATTCTGACTGCAACGGGCAATATGTCTCTGTGTGGATTAAAAAAAGAGTGTCTGATAGCAGC\n",
    "\n",
    "**Sample Output:**\n",
    "\n",
    "20 12 17 21"
   ]
  },
  {
   "cell_type": "code",
   "execution_count": 238,
   "metadata": {},
   "outputs": [
    {
     "name": "stdout",
     "output_type": "stream",
     "text": [
      "20 12 17 21\n"
     ]
    }
   ],
   "source": [
    "def count_nucleotides(s):\n",
    "    nucl_dict = {'A' : 0, 'C': 0, 'G': 0, 'T': 0}\n",
    "    for symbol in s:\n",
    "        nucl_dict[symbol] += 1\n",
    "    print(str(nucl_dict['A']) + \" \" + str(nucl_dict['C'])\n",
    "          + \" \" + str(nucl_dict['G']) + \" \" + str(nucl_dict['T']))"
   ]
  },
  {
   "cell_type": "markdown",
   "metadata": {},
   "source": [
    "**little bit shorter but perhaps less clear...**"
   ]
  },
  {
   "cell_type": "code",
   "execution_count": 260,
   "metadata": {},
   "outputs": [],
   "source": [
    "from collections import Counter\n",
    "def count_nucleotides2(s):\n",
    "    nucl_dict = Counter(s)\n",
    "    print(str(nucl_dict['A']) + \" \" + str(nucl_dict['C'])\n",
    "      + \" \" + str(nucl_dict['G']) + \" \" + str(nucl_dict['T']))"
   ]
  },
  {
   "cell_type": "code",
   "execution_count": 261,
   "metadata": {},
   "outputs": [
    {
     "name": "stdout",
     "output_type": "stream",
     "text": [
      "20 12 17 21\n",
      "20 12 17 21\n",
      "Counter({'T': 21, 'A': 20, 'G': 17, 'C': 12})\n"
     ]
    }
   ],
   "source": [
    "dna = \"AGCTTTTCATTCTGACTGCAACGGGCAATATGTCTCTGTGTGGATTAAAAAAAGAGTGTCTGATAGCAGC\"\n",
    "count_nucleotides(dna)\n",
    "count_nucleotides2(dna)"
   ]
  },
  {
   "cell_type": "code",
   "execution_count": 249,
   "metadata": {},
   "outputs": [
    {
     "name": "stdout",
     "output_type": "stream",
     "text": [
      "208 213 228 198\n"
     ]
    }
   ],
   "source": [
    "import re\n",
    "with open(\"txt_files/rosalind_dna.txt\", \"r\") as f:\n",
    "    s = f.read()\n",
    "    s = re.sub('[^ACGT]+', '', s) # remove '\\n' and other special chars if there are any\n",
    "    count_nucleotides2(s)"
   ]
  },
  {
   "cell_type": "markdown",
   "metadata": {},
   "source": [
    "## 2. The Second Nucleic Acid\n",
    "**Problem**\n",
    "\n",
    "An RNA string is a string formed from the alphabet containing 'A', 'C', 'G', and 'U'.\n",
    "\n",
    "Given a DNA string t\n",
    "corresponding to a coding strand, its transcribed RNA string u is formed by replacing all occurrences of 'T' in t with 'U' in u.\n",
    "\n",
    "**Given:** A DNA string t having length at most 1000 nt.\n",
    "\n",
    "**Return:** The transcribed RNA string of t.\n",
    "\n",
    "Sample Dataset:\n",
    "\n",
    "GATGGAACTTGACTACGTAAATT\n",
    "\n",
    "Sample Output:\n",
    "    \n",
    "GAUGGAACUUGACUACGUAAAUU"
   ]
  },
  {
   "cell_type": "code",
   "execution_count": 37,
   "metadata": {},
   "outputs": [
    {
     "name": "stdout",
     "output_type": "stream",
     "text": [
      "GAUGGAACUUGACUACGUAAAUU\n"
     ]
    }
   ],
   "source": [
    "def transcribe(s):\n",
    "    trans_s = s.translate(str.maketrans(\"T\", \"U\"))\n",
    "    print(trans_s)\n",
    "\n",
    "transcribe(\"GATGGAACTTGACTACGTAAATT\")"
   ]
  },
  {
   "cell_type": "code",
   "execution_count": 44,
   "metadata": {},
   "outputs": [
    {
     "name": "stdout",
     "output_type": "stream",
     "text": [
      "UGAGCGUAUACCCAAGUCCUUGAUUGGCAGAGAACUAGGCACAGAGUUCUUCGGCAACCAUGAGCCGCAUGGCCAAUCUUUUAGUGGCGGUAUGUACCCGCGUAGGAACAGAAAAAGUCCUUCUUGUCGCCCGGUGGCCGUAGUGCCAAUGCCGUAUAGCACGGAAGUGAGUUCCUCGUAUGACUCACGACGACCGUUUAGUAUGGUCAUCUGGGAGUCGUUGGUACCUGGGGCUUCCGGCUAUUUCGCAACGUAGUCAUGUUCCUCUGCAGUAGCAUAAUCUCGCUCGCGACUAACAUGGAGCUCCGCAAUUAGCCUAGCUAAGAGUCCUAGACGAGAGGUACGACCUUCCUUAAGCGGUCCGCGCUGAGGUCACAAACCGUAGGACCCGGAAUCAGUCUGUGAGCUUGGUUAUCGCUGGAUAAAAUAAGCCCCAGGACGAACCAAAGAUGGUUACGAUCUACAGCCAGGACUACCGUACUGGUAGCCAAAUCAGGGGUGUAAGGGGCAUUACUUUGGUCGAUCAUCAGUGAUAAGGUAGAGUACGGUCAACCGCGCUUUCCCUUCUCUGAUUAAUUCGAUAUAUUGAUGGCCAGUUCCUCAUUUUCAAGAAGGCGUGUCGAUCCACUGCGAGCUUUUAUCCGGGACCGGGGCGGGCUUAGCGUCGUUGAAUUCCCUUGUACGUGCCGUGGGCAGUUGAAUCGCCGUAGGAAUCCGACCGAUGCUCCGCACACCCAAUCUUACCAGCCCUCGAAGCAUAUUCCUGCGACACUGAGUGCACAAAGGUUCGCUUAAAUCUGUGUGGGCGGUUUGCCAGCCGACCAUGCCACCCAGGGUUCUGUUGCGUGUUGGUCGUUCGGAUAUCGGACAGACCAAGGUGACCGUGGUGUCCUAGGGCAGGAAGAUUUACACCCGCGU\n"
     ]
    }
   ],
   "source": [
    "fname = \"rosalind_rna.txt\"\n",
    "with open (fname, \"r\") as f:\n",
    "    s = f.read()\n",
    "    s = re.sub('[^ACGT]+', '', s)\n",
    "    transcribe(s)"
   ]
  },
  {
   "cell_type": "code",
   "execution_count": 45,
   "metadata": {},
   "outputs": [
    {
     "name": "stdout",
     "output_type": "stream",
     "text": [
      "ACCGGGTTTT\n"
     ]
    }
   ],
   "source": [
    "def complement(s):\n",
    "    rev_s = s[::-1]\n",
    "    comp_s = rev_s.translate(str.maketrans(\"ACGT\", \"TGCA\")) \n",
    "    print(comp_s)\n",
    "complement(\"AAAACCCGGT\")"
   ]
  },
  {
   "cell_type": "code",
   "execution_count": 46,
   "metadata": {},
   "outputs": [
    {
     "name": "stdout",
     "output_type": "stream",
     "text": [
      "ACGTTCATTAATTACATCCCAACTTAGCTAAGCTAAGCAAACTTGATCACTCGGAATGCATGACAGGATGCACTGATATAAATTGGAAGCTCTGCACAAACTGTTCGGCGGCCTATCCCTGCCGTAAGACACGTTAGCCGCGTATGAAGCAGACCGGCAATTGCGGCGAGGTCCAGTTGCCATGGAATTTAGTAAGTAACCTAAGTACAGAAGCACCACGAGAACGTATGTTTTTCGTTCTGAGCTTGGCACTGCTTGACTAGTGTCCTCGCTGAACCGCATTCAGTCGGAAGCATCTTACTACTAAGATGCCCATGGCGACGGAGTTGCATCAGAGAGGATATATATTCAGAAACTTTACGCCGATCCTACCGCCTTGCCTAGAGAGTACAGGGGAGTTGACGCCCCCGATCGTATATGGTCAACCAACAGTAACATTGCGCGCCCGCCACCACACATGGATACTTTGGGTCTTATGGACTCCCTAACAAACATCCAAGGGACGACCAATCTTTGGCGAGTACTCTGATAGTCCACACTCTTGGTCACGGGAAAGTTAAGACTCAATGATGCATGACATGGACACCACCATCAAGTAGTACGAAGGACCCTGTTACCGCGACCTTAAACATCGTAGTATCCCCAACTTGGACGTACCACGTGTTGTAGCGTAGTTCGGTCCATGAGTCAAACCTTCTGTTGCACTCAACTGGGGGATCCTGGCTGCTTTCTCTACCTGCACATTGATTGAGACTGCGAGTGAAGTGTTCAGAAGGCCGAGTGCAGTTATGTACGAGGGATGGGAGTCTCTCCGCCTATGCTACCCTGAGTTCATTCACCGTACTGCCTAGACAGGGTTTCGACCGCCGTGTCCGGTTCCATTTTGGAAACCTGCAGGGCTC\n",
      "\n"
     ]
    }
   ],
   "source": [
    "fname = 'rosalind_revc.txt'\n",
    "with open(fname, \"r\") as f:\n",
    "    s = f.read()\n",
    "    rev_s = s[::-1]\n",
    "    complement(rev_s)"
   ]
  },
  {
   "cell_type": "markdown",
   "metadata": {},
   "source": [
    "## 3. Rabbits and Recurrence Relations \n",
    "**Problem**\n",
    "\n",
    "A sequence is an ordered collection of objects (usually numbers), which are allowed to repeat. Sequences can be finite or infinite. Two examples are the finite sequence $(\\pi, - \\sqrt{2}, 0 , \\pi )$\n",
    "and the infinite sequence of odd numbers $(1,3,5,7,9,…)$. We use the notation $a_n$ to represent the $n$-th term of a sequence.\n",
    "\n",
    "A recurrence relation is a way of defining the terms of a sequence with respect to the values of previous terms. In the case of Fibonacci's rabbits from the introduction, any given month will contain the rabbits that were alive the previous month, plus any new offspring. A key observation is that the number of offspring in any month is equal to the number of rabbits that were alive two months prior. As a result, if $F_n$\n",
    "represents the number of rabbit pairs alive after the $n$-th month, then we obtain the Fibonacci sequence having terms $F_n$ that are defined by the recurrence relation $F_n = F_{n − 1} + F_{n − 2}$ (with $F_1=F_2=1$ to initiate the sequence). Although the sequence bears Fibonacci's name, it was known to Indian mathematicians over two millennia ago.\n",
    "\n",
    "When finding the $n$-th term of a sequence defined by a recurrence relation, we can simply use the recurrence relation to generate terms for progressively larger values of $n$. This problem introduces us to the computational technique of dynamic programming, which successively builds up solutions by using the answers to smaller cases.\n",
    "\n",
    "**Given:** Positive integers $n\\leq40$ and $k\\leq5$.\n",
    "\n",
    "**Return:** The total number of rabbit pairs that will be present after $n$ months, if we begin with $1$ pair and in each generation, every pair of reproduction-age rabbits produces a litter of $k$ rabbit pairs (instead of only $1$ pair).\n",
    "    \n",
    "**Sample Dataset:**\n",
    "    \n",
    "5 3\n",
    "\n",
    "**Sample Output:**\n",
    "\n",
    "19"
   ]
  },
  {
   "cell_type": "code",
   "execution_count": 9,
   "metadata": {},
   "outputs": [],
   "source": [
    "def rabbit_pairs(months, k):\n",
    "    if (months == 1 or months == 2):\n",
    "        return 1\n",
    "    else:\n",
    "        return rabbit_pairs(months-1, k) + k * rabbit_pairs(months-2, k)\n",
    "        "
   ]
  },
  {
   "cell_type": "code",
   "execution_count": 30,
   "metadata": {},
   "outputs": [
    {
     "name": "stdout",
     "output_type": "stream",
     "text": [
      "19\n",
      "436390025825\n"
     ]
    }
   ],
   "source": [
    "print(rabbit_pairs(5,3))\n",
    "print(rabbit_pairs(30,4))"
   ]
  },
  {
   "cell_type": "markdown",
   "metadata": {},
   "source": [
    "**Faster version of method using for loop instead**"
   ]
  },
  {
   "cell_type": "code",
   "execution_count": 26,
   "metadata": {},
   "outputs": [],
   "source": [
    "def rabbit_pairs2(months, k):\n",
    "    f_prev1 = 1\n",
    "    f_prev2 = 1\n",
    "    for i in range(2, months):\n",
    "        f_n = f_prev1 + f_prev2 * k\n",
    "        f_prev1, f_prev2 = f_n, f_prev1\n",
    "    return f_n"
   ]
  },
  {
   "cell_type": "code",
   "execution_count": 29,
   "metadata": {},
   "outputs": [
    {
     "name": "stdout",
     "output_type": "stream",
     "text": [
      "19\n",
      "436390025825\n"
     ]
    }
   ],
   "source": [
    "print(rabbit_pairs2(5,3))\n",
    "print(rabbit_pairs2(30,4))"
   ]
  },
  {
   "cell_type": "markdown",
   "metadata": {},
   "source": [
    "## 4. Computing GC Content\n",
    "**Problem**\n",
    "\n",
    "The GC-content of a DNA string is given by the percentage of symbols in the string that are 'C' or 'G'. For example, the GC-content of \"AGCTATAG\" is $37.5 \\%$. Note that the reverse complement of any DNA string has the same GC-content.\n",
    "\n",
    "DNA strings must be labeled when they are consolidated into a database. A commonly used method of string labeling is called FASTA format. In this format, the string is introduced by a line that begins with '>', followed by some labeling information. Subsequent lines contain the string itself; the first line to begin with '>' indicates the label of the next string.\n",
    "\n",
    "In Rosalind's implementation, a string in FASTA format will be labeled by the ID \"Rosalind_xxxx\", where \"xxxx\" denotes a four-digit code between 0000 and 9999.\n",
    "\n",
    "**Given:** At most $10$ DNA strings in FASTA format (of length at most $1$ kbp each).\n",
    "\n",
    "**Return:** The ID of the string having the highest GC-content, followed by the GC-content of that string. Rosalind allows for a default error of $0.001$ in all decimal answers unless otherwise stated; please see the note on absolute error below."
   ]
  },
  {
   "cell_type": "code",
   "execution_count": 255,
   "metadata": {},
   "outputs": [],
   "source": [
    "from collections import Counter\n",
    "def compute_gc_content(dna): \n",
    "    counter = Counter(dna)\n",
    "    return ((counter['C'] + counter['G']) / len(dna)) * 100\n",
    "\n",
    "# Only iterate through the list once...\n",
    "def find_max_gc(fname):\n",
    "    with open(fname, \"r\") as f: \n",
    "        max_gc = gc_content = 0\n",
    "        max_id = dna = \"\"\n",
    "        for line in f:\n",
    "            if line[0] == '>' and len(dna) == 0: # first line\n",
    "                id = line.replace('>', '').rstrip()\n",
    "            elif line[0] == '>' and len(dna) > 0:\n",
    "                gc_content = compute_gc_content(dna)\n",
    "                if (gc_content > max_gc):\n",
    "                    max_id, max_gc = id, gc_content\n",
    "                id = line.replace('>', '').rstrip()\n",
    "                dna = \"\"\n",
    "            else:\n",
    "                dna += line.rstrip()\n",
    "        gc_content = compute_gc_content(dna) # last line\n",
    "        if (gc_content > max_gc):\n",
    "            max_id = id\n",
    "            max_gc = gc_content\n",
    "    return (max_id, max_gc)"
   ]
  },
  {
   "cell_type": "code",
   "execution_count": 256,
   "metadata": {},
   "outputs": [
    {
     "name": "stdout",
     "output_type": "stream",
     "text": [
      "Rosalind_0808\n",
      "60.91954022988506\n"
     ]
    }
   ],
   "source": [
    "fname = \"txt_files/rosalind_gc_test.txt\"\n",
    "s, gc = find_max_gc(fname)\n",
    "print(s + \"\\n\" + str(gc))"
   ]
  },
  {
   "cell_type": "markdown",
   "metadata": {},
   "source": [
    "## 5. Counting Point Mutations\n",
    "\n",
    "**Problem**\n",
    "\n",
    "Given two strings $s$ and $t$ of equal length, the Hamming distance between $s$ and $t$, denoted $ d_H(s,t) $, is the number of corresponding symbols that differ in $s$ and $t$\n",
    "\n",
    "**Given:** Two DNA strings $s$ and $t$ of equal length (not exceeding 1 kbp).\n",
    "\n",
    "**Return:** The Hamming distance $ d_H(s,t) $."
   ]
  },
  {
   "cell_type": "code",
   "execution_count": 218,
   "metadata": {},
   "outputs": [
    {
     "name": "stdout",
     "output_type": "stream",
     "text": [
      "449\n"
     ]
    }
   ],
   "source": [
    "from operator import ne\n",
    "\n",
    "def hamming_dist(s, t):\n",
    "    return sum(map(ne, s, t))"
   ]
  },
  {
   "cell_type": "code",
   "execution_count": 257,
   "metadata": {},
   "outputs": [
    {
     "name": "stdout",
     "output_type": "stream",
     "text": [
      "449\n"
     ]
    }
   ],
   "source": [
    "fname = \"txt_files/rosalind_hamm.txt\"\n",
    "with open(fname, \"r\") as f:\n",
    "    s = f.readline()\n",
    "    t = f.readline()\n",
    "    d = hamming_dist(s,t)\n",
    "print(d)"
   ]
  },
  {
   "cell_type": "markdown",
   "metadata": {},
   "source": [
    "## 6. Mendel's First Law\n",
    "\n",
    "**Problem**\n",
    "\n",
    "Probability is the mathematical study of randomly occurring phenomena. We will model such a phenomenon with a random variable, which is simply a variable that can take a number of different distinct outcomes depending on the result of an underlying random process.\n",
    "\n",
    "For example, say that we have a bag containing 3 red balls and 2 blue balls. If we let $X$\n",
    "represent the random variable corresponding to the color of a drawn ball, then the probability of each of the two outcomes is given by $Pr(X=red)=35$ and $Pr(X=blue)=25$.\n",
    "\n",
    "Random variables can be combined to yield new random variables. Returning to the ball example, let $Y$\n",
    "model the color of a second ball drawn from the bag (without replacing the first ball). The probability of $Y$ being red depends on whether the first ball was red or blue. To represent all outcomes of $X$ and $Y$, we therefore use a probability tree diagram. This branching diagram represents all possible individual probabilities for $X$ and $Y$, with outcomes at the endpoints (\"leaves\") of the tree. The probability of any outcome is given by the product of probabilities along the path from the beginning of the tree; see Figure 2 for an illustrative example.\n",
    "\n",
    "An event is simply a collection of outcomes. Because outcomes are distinct, the probability of an event can be written as the sum of the probabilities of its constituent outcomes. For our colored ball example, let $A$\n",
    "be the event \"$Y$ is blue.\" $Pr(A)$ is equal to the sum of the probabilities of two different outcomes: $Pr(X=  blue \\text{ and }  Y = blue )+Pr(X= red \\text{ and } Y= blue )$, or $310+110=25$\n",
    "\n",
    "**Given:** Three positive integers $k$, $m$, and $n$, representing a population containing $k+m+n$ organisms: $k$ individuals are homozygous dominant for a factor, $m$ are heterozygous, and $n$ are homozygous recessive.\n",
    "\n",
    "**Return:** The probability that two randomly selected mating organisms will produce an individual possessing a dominant allele (and thus displaying the dominant phenotype). Assume that any two organisms can mate."
   ]
  },
  {
   "cell_type": "code",
   "execution_count": 381,
   "metadata": {},
   "outputs": [],
   "source": [
    "def calc_prob(k, m, n):\n",
    "    c = k + m + n\n",
    "    return ((m-1) / (c-1)) * ((3/4)*(m/c)) + \\\n",
    "        (m / (c-1)) * (k/c + (1/2)*(n/c)) + \\\n",
    "        (n / (c-1)) * (k/c + (1/2)*(m/c)) + \\\n",
    "        (k / (c-1)) * (m/c + (n/c)) + \\\n",
    "        ((k-1) / (c-1)) * k/c"
   ]
  },
  {
   "cell_type": "code",
   "execution_count": 387,
   "metadata": {},
   "outputs": [
    {
     "data": {
      "text/plain": [
       "0.0"
      ]
     },
     "execution_count": 387,
     "metadata": {},
     "output_type": "execute_result"
    }
   ],
   "source": [
    "calc_prob(0, 0, 2)"
   ]
  },
  {
   "cell_type": "code",
   "execution_count": 399,
   "metadata": {},
   "outputs": [],
   "source": [
    "def calc_prob2(k, m, n):\n",
    "    c = k + m + n\n",
    "    return (1 - ((m / c) * ((3/4) * (m-1)/(c-1) + (1/2) * n / (c-1)) + \\\n",
    "            (n / c) * ((1/2) * (m / (c-1)) + (n-1) / (c-1))))"
   ]
  },
  {
   "cell_type": "code",
   "execution_count": 400,
   "metadata": {},
   "outputs": [
    {
     "data": {
      "text/plain": [
       "0.75"
      ]
     },
     "execution_count": 400,
     "metadata": {},
     "output_type": "execute_result"
    }
   ],
   "source": [
    "calc_prob2(2, 2, 2)"
   ]
  },
  {
   "cell_type": "code",
   "execution_count": null,
   "metadata": {},
   "outputs": [],
   "source": []
  },
  {
   "cell_type": "code",
   "execution_count": null,
   "metadata": {},
   "outputs": [],
   "source": []
  },
  {
   "cell_type": "code",
   "execution_count": null,
   "metadata": {},
   "outputs": [],
   "source": []
  },
  {
   "cell_type": "code",
   "execution_count": null,
   "metadata": {},
   "outputs": [],
   "source": []
  },
  {
   "cell_type": "code",
   "execution_count": null,
   "metadata": {},
   "outputs": [],
   "source": []
  },
  {
   "cell_type": "code",
   "execution_count": null,
   "metadata": {},
   "outputs": [],
   "source": []
  }
 ],
 "metadata": {
  "kernelspec": {
   "display_name": "Python 3",
   "language": "python",
   "name": "python3"
  },
  "language_info": {
   "codemirror_mode": {
    "name": "ipython",
    "version": 3
   },
   "file_extension": ".py",
   "mimetype": "text/x-python",
   "name": "python",
   "nbconvert_exporter": "python",
   "pygments_lexer": "ipython3",
   "version": "3.7.0"
  }
 },
 "nbformat": 4,
 "nbformat_minor": 2
}
